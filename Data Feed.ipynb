{
 "cells": [
  {
   "cell_type": "markdown",
   "id": "957099ce-dce4-42a7-94d1-ce27587f4cdf",
   "metadata": {},
   "source": [
    "# Loading Libraries and API Package"
   ]
  },
  {
   "cell_type": "code",
   "execution_count": 1,
   "id": "5c7a3ac8-b468-45e9-aec3-3b47be27a265",
   "metadata": {},
   "outputs": [],
   "source": [
    "from tmdbv3api import TMDb\n",
    "from tmdbv3api import Movie\n",
    "from tmdbv3api import TV\n",
    "from tmdbv3api import Genre, Search\n",
    "\n",
    "tmdb = TMDb()\n",
    "tmdb.api_key = '3645538d59141adac64aaa49b3cb02f7'\n",
    "tmdb.language = 'en'\n",
    "tmdb.debug = True\n",
    "\n",
    "movie = Movie()\n",
    "tv = TV()\n",
    "genre = Genre()"
   ]
  },
  {
   "cell_type": "code",
   "execution_count": 3,
   "id": "1f94a8e3-85c6-48f3-897c-78916a64c25a",
   "metadata": {},
   "outputs": [],
   "source": [
    "import pandas as pd\n",
    "pd.options.mode.chained_assignment = None\n",
    "import numpy as np\n",
    "import matplotlib.pyplot as plt\n",
    "import json as json\n",
    "import pickle\n",
    "from matplotlib.offsetbox import TextArea, DrawingArea, OffsetImage, AnnotationBbox\n",
    "\n",
    "%matplotlib inline"
   ]
  },
  {
   "cell_type": "markdown",
   "id": "dc9117a8-1ea6-40b7-8c0d-ff6f75c5e93f",
   "metadata": {},
   "source": [
    "# Loading STC JAWWY Data"
   ]
  },
  {
   "cell_type": "code",
   "execution_count": 5,
   "id": "03966cb4-db00-4ef0-a640-8e3d5e41efce",
   "metadata": {},
   "outputs": [],
   "source": [
    "stc = pd.read_csv('Final_Dataset.txt', delimiter = \",\")\n",
    "stc = stc.drop('Unnamed: 0', axis=1)"
   ]
  },
  {
   "cell_type": "code",
   "execution_count": 6,
   "id": "a1319dc1-afed-4f64-98bf-9e902b385a9d",
   "metadata": {},
   "outputs": [
    {
     "data": {
      "text/html": [
       "<div>\n",
       "<style scoped>\n",
       "    .dataframe tbody tr th:only-of-type {\n",
       "        vertical-align: middle;\n",
       "    }\n",
       "\n",
       "    .dataframe tbody tr th {\n",
       "        vertical-align: top;\n",
       "    }\n",
       "\n",
       "    .dataframe thead th {\n",
       "        text-align: right;\n",
       "    }\n",
       "</style>\n",
       "<table border=\"1\" class=\"dataframe\">\n",
       "  <thead>\n",
       "    <tr style=\"text-align: right;\">\n",
       "      <th></th>\n",
       "      <th>date_</th>\n",
       "      <th>user_id_maped</th>\n",
       "      <th>program_name</th>\n",
       "      <th>duration_seconds</th>\n",
       "      <th>program_class</th>\n",
       "      <th>season</th>\n",
       "      <th>episode</th>\n",
       "      <th>program_desc</th>\n",
       "      <th>program_genre</th>\n",
       "      <th>series_title</th>\n",
       "      <th>hd</th>\n",
       "      <th>original_name</th>\n",
       "      <th>vid_id</th>\n",
       "    </tr>\n",
       "  </thead>\n",
       "  <tbody>\n",
       "    <tr>\n",
       "      <th>0</th>\n",
       "      <td>2017-05-27</td>\n",
       "      <td>26138</td>\n",
       "      <td>100 treets</td>\n",
       "      <td>40</td>\n",
       "      <td>MOVIE</td>\n",
       "      <td>0</td>\n",
       "      <td>0</td>\n",
       "      <td>Drama Movie100 Streets</td>\n",
       "      <td>Drama</td>\n",
       "      <td>0</td>\n",
       "      <td>0</td>\n",
       "      <td>100 treets</td>\n",
       "      <td>2</td>\n",
       "    </tr>\n",
       "    <tr>\n",
       "      <th>1</th>\n",
       "      <td>2017-05-21</td>\n",
       "      <td>7946</td>\n",
       "      <td>Moana</td>\n",
       "      <td>17</td>\n",
       "      <td>MOVIE</td>\n",
       "      <td>0</td>\n",
       "      <td>0</td>\n",
       "      <td>Animation MovieMoana (HD)</td>\n",
       "      <td>Animation</td>\n",
       "      <td>0</td>\n",
       "      <td>1</td>\n",
       "      <td>Moana</td>\n",
       "      <td>924</td>\n",
       "    </tr>\n",
       "    <tr>\n",
       "      <th>2</th>\n",
       "      <td>2017-08-10</td>\n",
       "      <td>7418</td>\n",
       "      <td>The Mermaid Princess</td>\n",
       "      <td>8</td>\n",
       "      <td>MOVIE</td>\n",
       "      <td>0</td>\n",
       "      <td>0</td>\n",
       "      <td>Animation MovieThe Mermaid Princess (HD)</td>\n",
       "      <td>Animation</td>\n",
       "      <td>0</td>\n",
       "      <td>1</td>\n",
       "      <td>The Mermaid Princess</td>\n",
       "      <td>1524</td>\n",
       "    </tr>\n",
       "    <tr>\n",
       "      <th>3</th>\n",
       "      <td>2017-07-26</td>\n",
       "      <td>19307</td>\n",
       "      <td>The Mermaid Princess</td>\n",
       "      <td>76</td>\n",
       "      <td>MOVIE</td>\n",
       "      <td>0</td>\n",
       "      <td>0</td>\n",
       "      <td>Animation MovieThe Mermaid Princess (HD)</td>\n",
       "      <td>Animation</td>\n",
       "      <td>0</td>\n",
       "      <td>1</td>\n",
       "      <td>The Mermaid Princess</td>\n",
       "      <td>1524</td>\n",
       "    </tr>\n",
       "    <tr>\n",
       "      <th>4</th>\n",
       "      <td>2017-07-07</td>\n",
       "      <td>15860</td>\n",
       "      <td>Churchill</td>\n",
       "      <td>87</td>\n",
       "      <td>MOVIE</td>\n",
       "      <td>0</td>\n",
       "      <td>0</td>\n",
       "      <td>Biography MovieChurchill (HD)</td>\n",
       "      <td>Biography</td>\n",
       "      <td>0</td>\n",
       "      <td>1</td>\n",
       "      <td>Churchill</td>\n",
       "      <td>317</td>\n",
       "    </tr>\n",
       "  </tbody>\n",
       "</table>\n",
       "</div>"
      ],
      "text/plain": [
       "        date_  user_id_maped           program_name  duration_seconds  \\\n",
       "0  2017-05-27          26138             100 treets                40   \n",
       "1  2017-05-21           7946                 Moana                 17   \n",
       "2  2017-08-10           7418  The Mermaid Princess                  8   \n",
       "3  2017-07-26          19307  The Mermaid Princess                 76   \n",
       "4  2017-07-07          15860             Churchill                 87   \n",
       "\n",
       "  program_class  season  episode                              program_desc  \\\n",
       "0         MOVIE       0        0                    Drama Movie100 Streets   \n",
       "1         MOVIE       0        0                 Animation MovieMoana (HD)   \n",
       "2         MOVIE       0        0  Animation MovieThe Mermaid Princess (HD)   \n",
       "3         MOVIE       0        0  Animation MovieThe Mermaid Princess (HD)   \n",
       "4         MOVIE       0        0             Biography MovieChurchill (HD)   \n",
       "\n",
       "  program_genre  series_title  hd         original_name  vid_id  \n",
       "0         Drama             0   0            100 treets       2  \n",
       "1     Animation             0   1                 Moana     924  \n",
       "2     Animation             0   1  The Mermaid Princess    1524  \n",
       "3     Animation             0   1  The Mermaid Princess    1524  \n",
       "4     Biography             0   1             Churchill     317  "
      ]
     },
     "execution_count": 6,
     "metadata": {},
     "output_type": "execute_result"
    }
   ],
   "source": [
    "# creating unique id for videos\n",
    "df = stc.copy()\n",
    "df['vid_id'] = df.groupby(['original_name']).ngroup()\n",
    "df.head()"
   ]
  },
  {
   "cell_type": "code",
   "execution_count": 7,
   "id": "78a15793-799e-4434-91dc-768aca027dab",
   "metadata": {},
   "outputs": [],
   "source": [
    "df['original_name'] = [\" \".join(x.split()) for x in df['original_name']]"
   ]
  },
  {
   "cell_type": "code",
   "execution_count": 8,
   "id": "ed9b8aee-ec10-4ab3-bcda-282d6cd3c912",
   "metadata": {},
   "outputs": [],
   "source": [
    "# get the names of TVs and movies\n",
    "movie_orig = list(set(df[df['program_class'] == 'MOVIE']['original_name']))\n",
    "tv_orig = list(set(df[df['program_class'] != 'MOVIE']['original_name']))"
   ]
  },
  {
   "cell_type": "code",
   "execution_count": 9,
   "id": "c77c73b4-710b-4e6a-b861-b543a5c477fb",
   "metadata": {},
   "outputs": [
    {
     "name": "stdout",
     "output_type": "stream",
     "text": [
      "Number of TV Shows 276\n",
      "Number of Movies 1525\n"
     ]
    }
   ],
   "source": [
    "print(\"Number of TV Shows {}\".format(len(tv_orig)))\n",
    "print(\"Number of Movies {}\".format(len(movie_orig)))"
   ]
  },
  {
   "cell_type": "code",
   "execution_count": null,
   "id": "faaa7a9b-9635-4616-acc9-cd84cebc5621",
   "metadata": {},
   "outputs": [],
   "source": []
  },
  {
   "cell_type": "markdown",
   "id": "230d5423-fee9-4539-bf11-61344d760bb7",
   "metadata": {},
   "source": [
    "problem: in STC JAWWY dataset, it seemed that we do not have enough information about the content (movies and tv shows information) such as year release, overview, genres,  ratings, and votes. these variables are important to build content-based recommendation system. the goal is to give the engine a name of a movie the user watched and show a list of simialr movies based content of seen movies. ex, if I watched Avengers, I should get movies about superheros and stuff!\n",
    "\n",
    "in our case with STC dataset, we do not have unique id for each movie and tv show in. order to get more data about our movies and tvs"
   ]
  },
  {
   "cell_type": "markdown",
   "id": "e8b1a252-886a-4982-95b0-f39a42a2aedc",
   "metadata": {},
   "source": [
    "## Find STC JAWWY Movies and TV Shows in tmbd API"
   ]
  },
  {
   "cell_type": "code",
   "execution_count": 10,
   "id": "210673bf-8262-476c-b176-fe117a63f6a2",
   "metadata": {},
   "outputs": [],
   "source": [
    "def get_tmdb_id(names, types):\n",
    "    \"\"\" function to get IDs of external movies and TV shows list from tmdb\n",
    "    input\n",
    "    names: list of item names (TV shows, Movies)\n",
    "    \n",
    "    output: \n",
    "    item_api_id; a list of all found IDs for target item names\n",
    "    item_name_not_found: a list of all not found name for target item names\n",
    "    item_dic: full details info about target item names from API\n",
    "    \n",
    "    \"\"\"\n",
    "    item_api_id = []\n",
    "    item_name_not_found = []\n",
    "    item_dic = []\n",
    "    for name in names:\n",
    "        search  = types.search(name) # search api for names\n",
    "        \n",
    "        if len(search) != 0: # if nothing, meand we do not have the name in tmdb\n",
    "            search = search[0]\n",
    "            item_dic.append(search) # add found items in list\n",
    "            item_api_id.append(search.id)\n",
    "        else:\n",
    "            item_name_not_found.append(name)\n",
    "    # return 3 \n",
    "    return item_api_id, item_name_not_found, item_dic"
   ]
  },
  {
   "cell_type": "code",
   "execution_count": 11,
   "id": "5ec96384-c546-463b-9a44-883223d63c4c",
   "metadata": {},
   "outputs": [],
   "source": [
    "movie_api_id, movie_name_not_found, movie_dic = get_tmdb_id(movie_orig, movie)\n",
    "tv_api_id, tv_name_not_found, tv_dic = get_tmdb_id(tv_orig, tv)"
   ]
  },
  {
   "cell_type": "code",
   "execution_count": 12,
   "id": "3f6be673-a492-4a94-a64d-38abef75d1c3",
   "metadata": {},
   "outputs": [],
   "source": [
    "# get all the genres ids list from tmdb\n",
    "genres_tv = genre.tv_list()\n",
    "genres_movie = genre.movie_list()\n",
    "genres_tv.extend(genres_movie)\n",
    "all_genres = genres_tv"
   ]
  },
  {
   "cell_type": "code",
   "execution_count": 13,
   "id": "ba4c6b28-38bc-44de-bd50-af4d6ae824e7",
   "metadata": {},
   "outputs": [
    {
     "name": "stdout",
     "output_type": "stream",
     "text": [
      "TV Shows in STC JAWWY     276\n",
      "TV Shows ID Found in TMDB 134\n",
      "TV Shows ID Not Found     142\n",
      "\n",
      "Movies in STC JAWWY       1525\n",
      "Movies ID Found in TMDB   1330\n",
      "Movies ID Not Found       195\n"
     ]
    }
   ],
   "source": [
    "print(\"TV Shows in STC JAWWY     {}\".format(len(tv_orig)))\n",
    "print(\"TV Shows ID Found in TMDB {}\".format(len(tv_api_id)))\n",
    "print(\"TV Shows ID Not Found     {}\".format(len(tv_name_not_found)))\n",
    "print()\n",
    "print(\"Movies in STC JAWWY       {}\".format(len(movie_orig)))\n",
    "print(\"Movies ID Found in TMDB   {}\".format(len(movie_api_id)))\n",
    "print(\"Movies ID Not Found       {}\".format(len(movie_name_not_found)))"
   ]
  },
  {
   "cell_type": "code",
   "execution_count": null,
   "id": "06a34419-42d7-497c-8fb8-5f2852a5119d",
   "metadata": {},
   "outputs": [],
   "source": []
  },
  {
   "cell_type": "code",
   "execution_count": null,
   "id": "67ffc384-0f11-485d-9ad6-0a0affe2aa6e",
   "metadata": {
    "tags": []
   },
   "outputs": [],
   "source": []
  },
  {
   "cell_type": "code",
   "execution_count": null,
   "id": "f4ef7b91-6fdf-418b-86d5-7d2918680182",
   "metadata": {},
   "outputs": [],
   "source": []
  },
  {
   "cell_type": "code",
   "execution_count": null,
   "id": "f82b22ff-77cf-4144-b55f-9233303d040f",
   "metadata": {},
   "outputs": [],
   "source": []
  },
  {
   "cell_type": "markdown",
   "id": "1d56aed6-6010-4aa1-b464-44860026de2a",
   "metadata": {},
   "source": [
    "## Save dictionary of movies and tv shows to CSV"
   ]
  },
  {
   "cell_type": "code",
   "execution_count": 14,
   "id": "22a228f3-4a37-4a39-8ee6-62d480c32703",
   "metadata": {},
   "outputs": [],
   "source": [
    "def export_list_dic(dic, filename):\n",
    "    import csv\n",
    "    csv_columns = list(dic[0].keys())\n",
    "    dict_data = dic\n",
    "    csv_file = \"{}.csv\".format(filename)\n",
    "    try:\n",
    "        with open(csv_file, 'w') as csvfile:\n",
    "            writer = csv.DictWriter(csvfile, fieldnames=csv_columns)\n",
    "            writer.writeheader()\n",
    "            for data in dict_data:\n",
    "                writer.writerow(data)\n",
    "    except IOError:\n",
    "        print(\"I/O error\")"
   ]
  },
  {
   "cell_type": "code",
   "execution_count": 15,
   "id": "454db942-0692-4792-bebf-88f004778689",
   "metadata": {},
   "outputs": [],
   "source": [
    "export_list_dic(tv_dic, 'tv_df')\n",
    "export_list_dic(movie_dic, 'movie_df')\n",
    "export_list_dic(all_genres, 'genre_df')"
   ]
  },
  {
   "cell_type": "code",
   "execution_count": null,
   "id": "1afa5371-7fde-4541-bafc-5d7841dcc9ea",
   "metadata": {},
   "outputs": [],
   "source": []
  },
  {
   "cell_type": "code",
   "execution_count": null,
   "id": "4b559631-621f-4c80-9b70-919fd7913d59",
   "metadata": {},
   "outputs": [],
   "source": []
  },
  {
   "cell_type": "markdown",
   "id": "e1251327-d344-42b0-aff6-dfca0cb7fc83",
   "metadata": {},
   "source": [
    "## It seems that we less than 50% find in TV shows from TMDB and almot 80% of Movies found in TMDB API. \n",
    "## Something to note that JAWWY has Arabic movies and TV shows and we can assume some of them are not in TMDB. Also, typos can be another issue here where we can not search a typo in TMDB and it has to be correct original name of content."
   ]
  },
  {
   "cell_type": "code",
   "execution_count": 16,
   "id": "64afca4c-940e-4e41-af54-9c34733bdbe8",
   "metadata": {},
   "outputs": [],
   "source": [
    "# load dfs\n",
    "movie_df = pd.read_csv('movie_df.csv')\n",
    "tv_df    = pd.read_csv('tv_df.csv')\n",
    "genre_df  = pd.read_csv('genre_df.csv')\n",
    "genre_df  = genre_df.drop_duplicates()"
   ]
  },
  {
   "cell_type": "code",
   "execution_count": 17,
   "id": "eea63f8d-5210-46ef-b636-18cf48678b85",
   "metadata": {},
   "outputs": [
    {
     "data": {
      "text/html": [
       "<div>\n",
       "<style scoped>\n",
       "    .dataframe tbody tr th:only-of-type {\n",
       "        vertical-align: middle;\n",
       "    }\n",
       "\n",
       "    .dataframe tbody tr th {\n",
       "        vertical-align: top;\n",
       "    }\n",
       "\n",
       "    .dataframe thead th {\n",
       "        text-align: right;\n",
       "    }\n",
       "</style>\n",
       "<table border=\"1\" class=\"dataframe\">\n",
       "  <thead>\n",
       "    <tr style=\"text-align: right;\">\n",
       "      <th></th>\n",
       "      <th>backdrop_path</th>\n",
       "      <th>first_air_date</th>\n",
       "      <th>genre_ids</th>\n",
       "      <th>id</th>\n",
       "      <th>name</th>\n",
       "      <th>origin_country</th>\n",
       "      <th>original_language</th>\n",
       "      <th>original_name</th>\n",
       "      <th>overview</th>\n",
       "      <th>popularity</th>\n",
       "      <th>poster_path</th>\n",
       "      <th>vote_average</th>\n",
       "      <th>vote_count</th>\n",
       "    </tr>\n",
       "  </thead>\n",
       "  <tbody>\n",
       "    <tr>\n",
       "      <th>0</th>\n",
       "      <td>/xxBB3y7Q9h9qRN5bggjb0ZZ4ZWc.jpg</td>\n",
       "      <td>2006-04-10</td>\n",
       "      <td>[16]</td>\n",
       "      <td>2424</td>\n",
       "      <td>Pinky Dinky Doo</td>\n",
       "      <td>['US']</td>\n",
       "      <td>en</td>\n",
       "      <td>Pinky Dinky Doo</td>\n",
       "      <td>Pinky Dinky Doo dances her way into her Story ...</td>\n",
       "      <td>3.158</td>\n",
       "      <td>/aphrMB7w0O2WDIGFWQsMcLyW17S.jpg</td>\n",
       "      <td>6.7</td>\n",
       "      <td>3</td>\n",
       "    </tr>\n",
       "    <tr>\n",
       "      <th>1</th>\n",
       "      <td>/pOU3IrRJ1lAruhYxmFf1lg1P8zE.jpg</td>\n",
       "      <td>2013-10-14</td>\n",
       "      <td>[10759, 35, 10751, 10765]</td>\n",
       "      <td>58981</td>\n",
       "      <td>The Thundermans</td>\n",
       "      <td>['US']</td>\n",
       "      <td>en</td>\n",
       "      <td>The Thundermans</td>\n",
       "      <td>Meet The Thundermans, a typical suburban famil...</td>\n",
       "      <td>53.042</td>\n",
       "      <td>/mjbjpF2vIfunNd0JPE1UCvB7akr.jpg</td>\n",
       "      <td>8.1</td>\n",
       "      <td>446</td>\n",
       "    </tr>\n",
       "  </tbody>\n",
       "</table>\n",
       "</div>"
      ],
      "text/plain": [
       "                      backdrop_path first_air_date                  genre_ids  \\\n",
       "0  /xxBB3y7Q9h9qRN5bggjb0ZZ4ZWc.jpg     2006-04-10                       [16]   \n",
       "1  /pOU3IrRJ1lAruhYxmFf1lg1P8zE.jpg     2013-10-14  [10759, 35, 10751, 10765]   \n",
       "\n",
       "      id             name origin_country original_language    original_name  \\\n",
       "0   2424  Pinky Dinky Doo         ['US']                en  Pinky Dinky Doo   \n",
       "1  58981  The Thundermans         ['US']                en  The Thundermans   \n",
       "\n",
       "                                            overview  popularity  \\\n",
       "0  Pinky Dinky Doo dances her way into her Story ...       3.158   \n",
       "1  Meet The Thundermans, a typical suburban famil...      53.042   \n",
       "\n",
       "                        poster_path  vote_average  vote_count  \n",
       "0  /aphrMB7w0O2WDIGFWQsMcLyW17S.jpg           6.7           3  \n",
       "1  /mjbjpF2vIfunNd0JPE1UCvB7akr.jpg           8.1         446  "
      ]
     },
     "execution_count": 17,
     "metadata": {},
     "output_type": "execute_result"
    }
   ],
   "source": [
    "tv_df.head(2)"
   ]
  },
  {
   "cell_type": "code",
   "execution_count": 18,
   "id": "192deac8-e3a1-401e-9560-c3307f10e5dd",
   "metadata": {},
   "outputs": [],
   "source": [
    "# add a type in the dict\n",
    "movie_df['program_type'] = 'Movie'\n",
    "tv_df['program_type'] = 'TV Show'"
   ]
  },
  {
   "cell_type": "markdown",
   "id": "04f1597f-e010-476a-b190-c9be74a2db8c",
   "metadata": {},
   "source": [
    "### if we notice in the genre_ids column, we have a genre ids list that are a referrence to genres API. We will perform a convertions from these list into the real genre names for movies and tv shows"
   ]
  },
  {
   "cell_type": "code",
   "execution_count": 20,
   "id": "e384aad0-92f1-4c12-95e8-ac73aca17e58",
   "metadata": {},
   "outputs": [
    {
     "data": {
      "text/html": [
       "<div>\n",
       "<style scoped>\n",
       "    .dataframe tbody tr th:only-of-type {\n",
       "        vertical-align: middle;\n",
       "    }\n",
       "\n",
       "    .dataframe tbody tr th {\n",
       "        vertical-align: top;\n",
       "    }\n",
       "\n",
       "    .dataframe thead th {\n",
       "        text-align: right;\n",
       "    }\n",
       "</style>\n",
       "<table border=\"1\" class=\"dataframe\">\n",
       "  <thead>\n",
       "    <tr style=\"text-align: right;\">\n",
       "      <th></th>\n",
       "      <th>backdrop_path</th>\n",
       "      <th>first_air_date</th>\n",
       "      <th>genre_ids</th>\n",
       "      <th>id</th>\n",
       "      <th>name</th>\n",
       "      <th>origin_country</th>\n",
       "      <th>original_language</th>\n",
       "      <th>original_name</th>\n",
       "      <th>overview</th>\n",
       "      <th>popularity</th>\n",
       "      <th>poster_path</th>\n",
       "      <th>vote_average</th>\n",
       "      <th>vote_count</th>\n",
       "      <th>program_type</th>\n",
       "    </tr>\n",
       "  </thead>\n",
       "  <tbody>\n",
       "    <tr>\n",
       "      <th>0</th>\n",
       "      <td>/xxBB3y7Q9h9qRN5bggjb0ZZ4ZWc.jpg</td>\n",
       "      <td>2006-04-10</td>\n",
       "      <td>[16]</td>\n",
       "      <td>2424</td>\n",
       "      <td>Pinky Dinky Doo</td>\n",
       "      <td>['US']</td>\n",
       "      <td>en</td>\n",
       "      <td>Pinky Dinky Doo</td>\n",
       "      <td>Pinky Dinky Doo dances her way into her Story ...</td>\n",
       "      <td>3.158</td>\n",
       "      <td>/aphrMB7w0O2WDIGFWQsMcLyW17S.jpg</td>\n",
       "      <td>6.7</td>\n",
       "      <td>3</td>\n",
       "      <td>TV Show</td>\n",
       "    </tr>\n",
       "    <tr>\n",
       "      <th>1</th>\n",
       "      <td>/pOU3IrRJ1lAruhYxmFf1lg1P8zE.jpg</td>\n",
       "      <td>2013-10-14</td>\n",
       "      <td>[10759, 35, 10751, 10765]</td>\n",
       "      <td>58981</td>\n",
       "      <td>The Thundermans</td>\n",
       "      <td>['US']</td>\n",
       "      <td>en</td>\n",
       "      <td>The Thundermans</td>\n",
       "      <td>Meet The Thundermans, a typical suburban famil...</td>\n",
       "      <td>53.042</td>\n",
       "      <td>/mjbjpF2vIfunNd0JPE1UCvB7akr.jpg</td>\n",
       "      <td>8.1</td>\n",
       "      <td>446</td>\n",
       "      <td>TV Show</td>\n",
       "    </tr>\n",
       "    <tr>\n",
       "      <th>2</th>\n",
       "      <td>/vQwKpCOG2MM4F6dFCvxkzb1Pz1K.jpg</td>\n",
       "      <td>2015-08-22</td>\n",
       "      <td>[35]</td>\n",
       "      <td>62238</td>\n",
       "      <td>Blunt Talk</td>\n",
       "      <td>['US']</td>\n",
       "      <td>en</td>\n",
       "      <td>Blunt Talk</td>\n",
       "      <td>A British newscaster moves to Los Angeles with...</td>\n",
       "      <td>12.394</td>\n",
       "      <td>/tPPJbwR1Z1zZzTvXTu3DaCfUpgk.jpg</td>\n",
       "      <td>6.8</td>\n",
       "      <td>44</td>\n",
       "      <td>TV Show</td>\n",
       "    </tr>\n",
       "    <tr>\n",
       "      <th>3</th>\n",
       "      <td>/D2DL5b9HBAy9jST2ZaDJLNHEsY.jpg</td>\n",
       "      <td>2014-06-07</td>\n",
       "      <td>[80, 18]</td>\n",
       "      <td>54650</td>\n",
       "      <td>Power</td>\n",
       "      <td>['US']</td>\n",
       "      <td>en</td>\n",
       "      <td>Power</td>\n",
       "      <td>A successful New York entrepreneur lives a dou...</td>\n",
       "      <td>60.428</td>\n",
       "      <td>/ctftzvyj8b0odco7EoS9VfJhf7K.jpg</td>\n",
       "      <td>7.7</td>\n",
       "      <td>1015</td>\n",
       "      <td>TV Show</td>\n",
       "    </tr>\n",
       "    <tr>\n",
       "      <th>4</th>\n",
       "      <td>/4DgAubucJP6y2yX2Yx4CLEgdIPA.jpg</td>\n",
       "      <td>2006-09-25</td>\n",
       "      <td>[10765, 18]</td>\n",
       "      <td>1639</td>\n",
       "      <td>Heroes</td>\n",
       "      <td>['US']</td>\n",
       "      <td>en</td>\n",
       "      <td>Heroes</td>\n",
       "      <td>Common people discover that they have super po...</td>\n",
       "      <td>110.135</td>\n",
       "      <td>/7Cn1Sj5yipu7tBX14BbaXuBHbL1.jpg</td>\n",
       "      <td>7.5</td>\n",
       "      <td>1633</td>\n",
       "      <td>TV Show</td>\n",
       "    </tr>\n",
       "  </tbody>\n",
       "</table>\n",
       "</div>"
      ],
      "text/plain": [
       "                      backdrop_path first_air_date                  genre_ids  \\\n",
       "0  /xxBB3y7Q9h9qRN5bggjb0ZZ4ZWc.jpg     2006-04-10                       [16]   \n",
       "1  /pOU3IrRJ1lAruhYxmFf1lg1P8zE.jpg     2013-10-14  [10759, 35, 10751, 10765]   \n",
       "2  /vQwKpCOG2MM4F6dFCvxkzb1Pz1K.jpg     2015-08-22                       [35]   \n",
       "3   /D2DL5b9HBAy9jST2ZaDJLNHEsY.jpg     2014-06-07                   [80, 18]   \n",
       "4  /4DgAubucJP6y2yX2Yx4CLEgdIPA.jpg     2006-09-25                [10765, 18]   \n",
       "\n",
       "      id             name origin_country original_language    original_name  \\\n",
       "0   2424  Pinky Dinky Doo         ['US']                en  Pinky Dinky Doo   \n",
       "1  58981  The Thundermans         ['US']                en  The Thundermans   \n",
       "2  62238       Blunt Talk         ['US']                en       Blunt Talk   \n",
       "3  54650            Power         ['US']                en            Power   \n",
       "4   1639           Heroes         ['US']                en           Heroes   \n",
       "\n",
       "                                            overview  popularity  \\\n",
       "0  Pinky Dinky Doo dances her way into her Story ...       3.158   \n",
       "1  Meet The Thundermans, a typical suburban famil...      53.042   \n",
       "2  A British newscaster moves to Los Angeles with...      12.394   \n",
       "3  A successful New York entrepreneur lives a dou...      60.428   \n",
       "4  Common people discover that they have super po...     110.135   \n",
       "\n",
       "                        poster_path  vote_average  vote_count program_type  \n",
       "0  /aphrMB7w0O2WDIGFWQsMcLyW17S.jpg           6.7           3      TV Show  \n",
       "1  /mjbjpF2vIfunNd0JPE1UCvB7akr.jpg           8.1         446      TV Show  \n",
       "2  /tPPJbwR1Z1zZzTvXTu3DaCfUpgk.jpg           6.8          44      TV Show  \n",
       "3  /ctftzvyj8b0odco7EoS9VfJhf7K.jpg           7.7        1015      TV Show  \n",
       "4  /7Cn1Sj5yipu7tBX14BbaXuBHbL1.jpg           7.5        1633      TV Show  "
      ]
     },
     "execution_count": 20,
     "metadata": {},
     "output_type": "execute_result"
    }
   ],
   "source": [
    "tv_df.head()"
   ]
  },
  {
   "cell_type": "code",
   "execution_count": 21,
   "id": "de6d18b5-0902-4ca6-bd1e-d3c8a8ffba60",
   "metadata": {},
   "outputs": [],
   "source": [
    "def convert_string_list(df, column):\n",
    "    \"\"\" convert dataframe colument that is quoted \"list\" into [list] class\n",
    "    input:\n",
    "    df: dataframe\n",
    "    column: takes str of column name that need to be converted\n",
    "    \n",
    "    output: \n",
    "    df: converted values of target column from string-list to list\n",
    "    \"\"\"\n",
    "    print('Before: {}, type: {}'.format(df[column][1], type(df[column][1])))\n",
    "    \n",
    "    for i in range(len(df[column])):\n",
    "        df[column][i] = json.loads(df[column][i])\n",
    "    \n",
    "    print('After: {}, type: {}'.format(df[column][1], type(df[column][1])))\n"
   ]
  },
  {
   "cell_type": "code",
   "execution_count": 22,
   "id": "2026e55f-bcce-4177-a4a1-d63c6267268a",
   "metadata": {},
   "outputs": [
    {
     "name": "stdout",
     "output_type": "stream",
     "text": [
      "Before: [35], type: <class 'str'>\n",
      "After: [35], type: <class 'list'>\n",
      "Before: [10759, 35, 10751, 10765], type: <class 'str'>\n",
      "After: [10759, 35, 10751, 10765], type: <class 'list'>\n"
     ]
    }
   ],
   "source": [
    "convert_string_list(movie_df, 'genre_ids')\n",
    "convert_string_list(tv_df, 'genre_ids')"
   ]
  },
  {
   "cell_type": "code",
   "execution_count": 23,
   "id": "6aa2c84c-2375-474d-8e6d-178274a20764",
   "metadata": {},
   "outputs": [],
   "source": [
    "def id_to_genre(df):\n",
    "    \"\"\" convert ids of genre_ids primery key into actual values \n",
    "    \n",
    "    input: dataframe with genre_ids column as [35,53,543]\n",
    "    \n",
    "    output: dataframe with genre_ids column as [action, comdey, horror]\n",
    "    \"\"\"\n",
    "    print('Before: {}'.format(df['genre_ids'][1]))\n",
    "\n",
    "    for i in range(len(df)):\n",
    "        lists = df['genre_ids'][i]\n",
    "        names = list(genre_df[genre_df['id'].isin(lists)]['name'])\n",
    "        df.loc[:,'genre_ids'][i] = names\n",
    "          \n",
    "    print('After: {}'.format(df['genre_ids'][1]))\n"
   ]
  },
  {
   "cell_type": "code",
   "execution_count": 24,
   "id": "d51dcd12-9895-4dfd-b1bc-61f39c81d948",
   "metadata": {},
   "outputs": [
    {
     "name": "stdout",
     "output_type": "stream",
     "text": [
      "Before: [10759, 35, 10751, 10765]\n",
      "After: ['Action & Adventure', 'Comedy', 'Family', 'Sci-Fi & Fantasy']\n",
      "Before: [35]\n",
      "After: ['Comedy']\n"
     ]
    }
   ],
   "source": [
    "id_to_genre(tv_df)\n",
    "id_to_genre(movie_df)"
   ]
  },
  {
   "cell_type": "code",
   "execution_count": null,
   "id": "9275aa22-ee0f-475f-b127-b12cbf1965c6",
   "metadata": {},
   "outputs": [],
   "source": []
  },
  {
   "cell_type": "markdown",
   "id": "1b7f4760-4c6f-41ea-b6b7-44ec7a0e8645",
   "metadata": {},
   "source": [
    "## Now We have have two dataframes that have enough data points for content recommendation\n",
    "### we will concate movie_df and tv_df into one final df, and we can join the final df to our orginal dataframe (stc)"
   ]
  },
  {
   "cell_type": "code",
   "execution_count": 25,
   "id": "e7e6fb6c-f96c-475b-9e38-c6b347abedff",
   "metadata": {},
   "outputs": [
    {
     "data": {
      "text/html": [
       "<div>\n",
       "<style scoped>\n",
       "    .dataframe tbody tr th:only-of-type {\n",
       "        vertical-align: middle;\n",
       "    }\n",
       "\n",
       "    .dataframe tbody tr th {\n",
       "        vertical-align: top;\n",
       "    }\n",
       "\n",
       "    .dataframe thead th {\n",
       "        text-align: right;\n",
       "    }\n",
       "</style>\n",
       "<table border=\"1\" class=\"dataframe\">\n",
       "  <thead>\n",
       "    <tr style=\"text-align: right;\">\n",
       "      <th></th>\n",
       "      <th>backdrop_path</th>\n",
       "      <th>first_air_date</th>\n",
       "      <th>genre_ids</th>\n",
       "      <th>id</th>\n",
       "      <th>name</th>\n",
       "      <th>origin_country</th>\n",
       "      <th>original_language</th>\n",
       "      <th>original_name</th>\n",
       "      <th>overview</th>\n",
       "      <th>popularity</th>\n",
       "      <th>poster_path</th>\n",
       "      <th>vote_average</th>\n",
       "      <th>vote_count</th>\n",
       "      <th>program_type</th>\n",
       "    </tr>\n",
       "  </thead>\n",
       "  <tbody>\n",
       "    <tr>\n",
       "      <th>0</th>\n",
       "      <td>/xxBB3y7Q9h9qRN5bggjb0ZZ4ZWc.jpg</td>\n",
       "      <td>2006-04-10</td>\n",
       "      <td>[Animation]</td>\n",
       "      <td>2424</td>\n",
       "      <td>Pinky Dinky Doo</td>\n",
       "      <td>['US']</td>\n",
       "      <td>en</td>\n",
       "      <td>Pinky Dinky Doo</td>\n",
       "      <td>Pinky Dinky Doo dances her way into her Story ...</td>\n",
       "      <td>3.158</td>\n",
       "      <td>/aphrMB7w0O2WDIGFWQsMcLyW17S.jpg</td>\n",
       "      <td>6.7</td>\n",
       "      <td>3</td>\n",
       "      <td>TV Show</td>\n",
       "    </tr>\n",
       "    <tr>\n",
       "      <th>1</th>\n",
       "      <td>/pOU3IrRJ1lAruhYxmFf1lg1P8zE.jpg</td>\n",
       "      <td>2013-10-14</td>\n",
       "      <td>[Action &amp; Adventure, Comedy, Family, Sci-Fi &amp; ...</td>\n",
       "      <td>58981</td>\n",
       "      <td>The Thundermans</td>\n",
       "      <td>['US']</td>\n",
       "      <td>en</td>\n",
       "      <td>The Thundermans</td>\n",
       "      <td>Meet The Thundermans, a typical suburban famil...</td>\n",
       "      <td>53.042</td>\n",
       "      <td>/mjbjpF2vIfunNd0JPE1UCvB7akr.jpg</td>\n",
       "      <td>8.1</td>\n",
       "      <td>446</td>\n",
       "      <td>TV Show</td>\n",
       "    </tr>\n",
       "  </tbody>\n",
       "</table>\n",
       "</div>"
      ],
      "text/plain": [
       "                      backdrop_path first_air_date  \\\n",
       "0  /xxBB3y7Q9h9qRN5bggjb0ZZ4ZWc.jpg     2006-04-10   \n",
       "1  /pOU3IrRJ1lAruhYxmFf1lg1P8zE.jpg     2013-10-14   \n",
       "\n",
       "                                           genre_ids     id             name  \\\n",
       "0                                        [Animation]   2424  Pinky Dinky Doo   \n",
       "1  [Action & Adventure, Comedy, Family, Sci-Fi & ...  58981  The Thundermans   \n",
       "\n",
       "  origin_country original_language    original_name  \\\n",
       "0         ['US']                en  Pinky Dinky Doo   \n",
       "1         ['US']                en  The Thundermans   \n",
       "\n",
       "                                            overview  popularity  \\\n",
       "0  Pinky Dinky Doo dances her way into her Story ...       3.158   \n",
       "1  Meet The Thundermans, a typical suburban famil...      53.042   \n",
       "\n",
       "                        poster_path  vote_average  vote_count program_type  \n",
       "0  /aphrMB7w0O2WDIGFWQsMcLyW17S.jpg           6.7           3      TV Show  \n",
       "1  /mjbjpF2vIfunNd0JPE1UCvB7akr.jpg           8.1         446      TV Show  "
      ]
     },
     "execution_count": 25,
     "metadata": {},
     "output_type": "execute_result"
    }
   ],
   "source": [
    "tv_df.head(2)"
   ]
  },
  {
   "cell_type": "code",
   "execution_count": 26,
   "id": "8f272ded-18b5-448f-8136-3d784b7c9bbe",
   "metadata": {},
   "outputs": [],
   "source": [
    "tv_df.columns = ['backdrop_path', 'release_date', 'genre_ids', 'id', 'name',\n",
    "       'origin_country', 'original_language', 'original_title', 'overview',\n",
    "       'popularity', 'poster_path', 'vote_average', 'vote_count',\n",
    "       'program_type']"
   ]
  },
  {
   "cell_type": "code",
   "execution_count": null,
   "id": "263d5173-f1c7-40d5-beba-cf6030125d29",
   "metadata": {},
   "outputs": [],
   "source": []
  },
  {
   "cell_type": "code",
   "execution_count": null,
   "id": "e9d8a74b-5f17-4fe8-bbe5-5d5c56c748a9",
   "metadata": {},
   "outputs": [],
   "source": []
  },
  {
   "cell_type": "code",
   "execution_count": 27,
   "id": "bebec587-2046-4af2-aac7-c7066b0431b0",
   "metadata": {},
   "outputs": [],
   "source": [
    "column_needed = ['id', 'original_title','release_date','program_type', 'genre_ids', 'overview', 'popularity', 'vote_average', 'vote_count']"
   ]
  },
  {
   "cell_type": "code",
   "execution_count": 28,
   "id": "20542316-640f-4165-9e94-9b9938617d18",
   "metadata": {},
   "outputs": [],
   "source": [
    "movie_df = movie_df[column_needed]\n",
    "tv_df = tv_df[column_needed]"
   ]
  },
  {
   "cell_type": "code",
   "execution_count": 29,
   "id": "930fe461-1b29-4615-941e-8a043f65b8dc",
   "metadata": {},
   "outputs": [],
   "source": [
    "dfs = [movie_df, tv_df]\n",
    "df  = pd.concat(dfs)\n",
    "df  = df.reset_index()"
   ]
  },
  {
   "cell_type": "code",
   "execution_count": 30,
   "id": "5914ca23-1d3e-433a-9118-fb4c1c70df8b",
   "metadata": {},
   "outputs": [],
   "source": [
    "df = df.drop('index', axis=1)"
   ]
  },
  {
   "cell_type": "code",
   "execution_count": 31,
   "id": "05fb2df9-3c04-4f81-8c9a-b47f8c758cca",
   "metadata": {},
   "outputs": [],
   "source": [
    "df.columns = ['id', 'original_title','release_date','program_type', 'genres', 'overview', 'popularity', 'vote_average', 'vote_count']"
   ]
  },
  {
   "cell_type": "code",
   "execution_count": 32,
   "id": "ee9147ff-acb0-42df-9a4e-490adc0b1e68",
   "metadata": {},
   "outputs": [
    {
     "data": {
      "text/html": [
       "<div>\n",
       "<style scoped>\n",
       "    .dataframe tbody tr th:only-of-type {\n",
       "        vertical-align: middle;\n",
       "    }\n",
       "\n",
       "    .dataframe tbody tr th {\n",
       "        vertical-align: top;\n",
       "    }\n",
       "\n",
       "    .dataframe thead th {\n",
       "        text-align: right;\n",
       "    }\n",
       "</style>\n",
       "<table border=\"1\" class=\"dataframe\">\n",
       "  <thead>\n",
       "    <tr style=\"text-align: right;\">\n",
       "      <th></th>\n",
       "      <th>id</th>\n",
       "      <th>original_title</th>\n",
       "      <th>release_date</th>\n",
       "      <th>program_type</th>\n",
       "      <th>genres</th>\n",
       "      <th>overview</th>\n",
       "      <th>popularity</th>\n",
       "      <th>vote_average</th>\n",
       "      <th>vote_count</th>\n",
       "    </tr>\n",
       "  </thead>\n",
       "  <tbody>\n",
       "    <tr>\n",
       "      <th>0</th>\n",
       "      <td>59962</td>\n",
       "      <td>This Means War</td>\n",
       "      <td>2012-02-14</td>\n",
       "      <td>Movie</td>\n",
       "      <td>[Comedy, Action, Romance]</td>\n",
       "      <td>Two top CIA operatives wage an epic battle aga...</td>\n",
       "      <td>18.739</td>\n",
       "      <td>6.1</td>\n",
       "      <td>2854</td>\n",
       "    </tr>\n",
       "    <tr>\n",
       "      <th>1</th>\n",
       "      <td>73937</td>\n",
       "      <td>The Big Year</td>\n",
       "      <td>2011-10-13</td>\n",
       "      <td>Movie</td>\n",
       "      <td>[Comedy]</td>\n",
       "      <td>Three fanatical bird-watchers spend an entire ...</td>\n",
       "      <td>11.271</td>\n",
       "      <td>6.0</td>\n",
       "      <td>612</td>\n",
       "    </tr>\n",
       "    <tr>\n",
       "      <th>2</th>\n",
       "      <td>387889</td>\n",
       "      <td>Buddymoon</td>\n",
       "      <td>2016-07-01</td>\n",
       "      <td>Movie</td>\n",
       "      <td>[Comedy]</td>\n",
       "      <td>When David is left by his fiancé just days bef...</td>\n",
       "      <td>3.944</td>\n",
       "      <td>6.1</td>\n",
       "      <td>28</td>\n",
       "    </tr>\n",
       "    <tr>\n",
       "      <th>3</th>\n",
       "      <td>200</td>\n",
       "      <td>Star Trek: Insurrection</td>\n",
       "      <td>1998-12-11</td>\n",
       "      <td>Movie</td>\n",
       "      <td>[Action, Adventure, Science Fiction, Thriller]</td>\n",
       "      <td>When an alien race and factions within Starfle...</td>\n",
       "      <td>15.670</td>\n",
       "      <td>6.4</td>\n",
       "      <td>898</td>\n",
       "    </tr>\n",
       "    <tr>\n",
       "      <th>4</th>\n",
       "      <td>9991</td>\n",
       "      <td>Mean Machine</td>\n",
       "      <td>2001-12-26</td>\n",
       "      <td>Movie</td>\n",
       "      <td>[Comedy, Drama]</td>\n",
       "      <td>Disgraced ex-England football captain, Danny '...</td>\n",
       "      <td>12.028</td>\n",
       "      <td>6.2</td>\n",
       "      <td>445</td>\n",
       "    </tr>\n",
       "    <tr>\n",
       "      <th>...</th>\n",
       "      <td>...</td>\n",
       "      <td>...</td>\n",
       "      <td>...</td>\n",
       "      <td>...</td>\n",
       "      <td>...</td>\n",
       "      <td>...</td>\n",
       "      <td>...</td>\n",
       "      <td>...</td>\n",
       "      <td>...</td>\n",
       "    </tr>\n",
       "    <tr>\n",
       "      <th>1459</th>\n",
       "      <td>46860</td>\n",
       "      <td>Mike the Knight</td>\n",
       "      <td>2011-10-31</td>\n",
       "      <td>TV Show</td>\n",
       "      <td>[Action &amp; Adventure, Animation]</td>\n",
       "      <td>Mike the Knight is a Canadian/British animated...</td>\n",
       "      <td>8.130</td>\n",
       "      <td>6.5</td>\n",
       "      <td>4</td>\n",
       "    </tr>\n",
       "    <tr>\n",
       "      <th>1460</th>\n",
       "      <td>7869</td>\n",
       "      <td>The Penguins of Madagascar</td>\n",
       "      <td>2008-11-28</td>\n",
       "      <td>TV Show</td>\n",
       "      <td>[Animation, Comedy]</td>\n",
       "      <td>The Penguins of Madagascar is an American CGI ...</td>\n",
       "      <td>79.081</td>\n",
       "      <td>7.2</td>\n",
       "      <td>153</td>\n",
       "    </tr>\n",
       "    <tr>\n",
       "      <th>1461</th>\n",
       "      <td>61550</td>\n",
       "      <td>Marvel's Agent Carter</td>\n",
       "      <td>2015-01-06</td>\n",
       "      <td>TV Show</td>\n",
       "      <td>[Drama, Sci-Fi &amp; Fantasy]</td>\n",
       "      <td>It's 1946, and peace has dealt Peggy Carter a ...</td>\n",
       "      <td>60.535</td>\n",
       "      <td>7.6</td>\n",
       "      <td>1329</td>\n",
       "    </tr>\n",
       "    <tr>\n",
       "      <th>1462</th>\n",
       "      <td>61986</td>\n",
       "      <td>Bloodline</td>\n",
       "      <td>2015-03-20</td>\n",
       "      <td>TV Show</td>\n",
       "      <td>[Drama]</td>\n",
       "      <td>A dramatic thriller that explores the demons l...</td>\n",
       "      <td>22.422</td>\n",
       "      <td>7.3</td>\n",
       "      <td>230</td>\n",
       "    </tr>\n",
       "    <tr>\n",
       "      <th>1463</th>\n",
       "      <td>6343</td>\n",
       "      <td>Painkiller Jane</td>\n",
       "      <td>2005-12-10</td>\n",
       "      <td>TV Show</td>\n",
       "      <td>[Action &amp; Adventure, Sci-Fi &amp; Fantasy]</td>\n",
       "      <td>Painkiller Jane is an American-Canadian scienc...</td>\n",
       "      <td>9.597</td>\n",
       "      <td>6.0</td>\n",
       "      <td>30</td>\n",
       "    </tr>\n",
       "  </tbody>\n",
       "</table>\n",
       "<p>1464 rows × 9 columns</p>\n",
       "</div>"
      ],
      "text/plain": [
       "          id              original_title release_date program_type  \\\n",
       "0      59962              This Means War   2012-02-14        Movie   \n",
       "1      73937                The Big Year   2011-10-13        Movie   \n",
       "2     387889                   Buddymoon   2016-07-01        Movie   \n",
       "3        200     Star Trek: Insurrection   1998-12-11        Movie   \n",
       "4       9991                Mean Machine   2001-12-26        Movie   \n",
       "...      ...                         ...          ...          ...   \n",
       "1459   46860             Mike the Knight   2011-10-31      TV Show   \n",
       "1460    7869  The Penguins of Madagascar   2008-11-28      TV Show   \n",
       "1461   61550       Marvel's Agent Carter   2015-01-06      TV Show   \n",
       "1462   61986                   Bloodline   2015-03-20      TV Show   \n",
       "1463    6343             Painkiller Jane   2005-12-10      TV Show   \n",
       "\n",
       "                                              genres  \\\n",
       "0                          [Comedy, Action, Romance]   \n",
       "1                                           [Comedy]   \n",
       "2                                           [Comedy]   \n",
       "3     [Action, Adventure, Science Fiction, Thriller]   \n",
       "4                                    [Comedy, Drama]   \n",
       "...                                              ...   \n",
       "1459                 [Action & Adventure, Animation]   \n",
       "1460                             [Animation, Comedy]   \n",
       "1461                       [Drama, Sci-Fi & Fantasy]   \n",
       "1462                                         [Drama]   \n",
       "1463          [Action & Adventure, Sci-Fi & Fantasy]   \n",
       "\n",
       "                                               overview  popularity  \\\n",
       "0     Two top CIA operatives wage an epic battle aga...      18.739   \n",
       "1     Three fanatical bird-watchers spend an entire ...      11.271   \n",
       "2     When David is left by his fiancé just days bef...       3.944   \n",
       "3     When an alien race and factions within Starfle...      15.670   \n",
       "4     Disgraced ex-England football captain, Danny '...      12.028   \n",
       "...                                                 ...         ...   \n",
       "1459  Mike the Knight is a Canadian/British animated...       8.130   \n",
       "1460  The Penguins of Madagascar is an American CGI ...      79.081   \n",
       "1461  It's 1946, and peace has dealt Peggy Carter a ...      60.535   \n",
       "1462  A dramatic thriller that explores the demons l...      22.422   \n",
       "1463  Painkiller Jane is an American-Canadian scienc...       9.597   \n",
       "\n",
       "      vote_average  vote_count  \n",
       "0              6.1        2854  \n",
       "1              6.0         612  \n",
       "2              6.1          28  \n",
       "3              6.4         898  \n",
       "4              6.2         445  \n",
       "...            ...         ...  \n",
       "1459           6.5           4  \n",
       "1460           7.2         153  \n",
       "1461           7.6        1329  \n",
       "1462           7.3         230  \n",
       "1463           6.0          30  \n",
       "\n",
       "[1464 rows x 9 columns]"
      ]
     },
     "execution_count": 32,
     "metadata": {},
     "output_type": "execute_result"
    }
   ],
   "source": [
    "df"
   ]
  },
  {
   "cell_type": "code",
   "execution_count": 33,
   "id": "243c0b6c-17cc-4a46-886c-fafa342c5252",
   "metadata": {},
   "outputs": [],
   "source": [
    "# get release year\n",
    "df['release_date'] = [str(x)[:4] for x in df['release_date']]"
   ]
  },
  {
   "cell_type": "code",
   "execution_count": 41,
   "id": "a41b06d3-d714-4854-9ed8-2f20354e5298",
   "metadata": {},
   "outputs": [],
   "source": [
    "# filter only stc df to match found movies and tv shows full information\n",
    "items  = list(df['original_title'].values)"
   ]
  },
  {
   "cell_type": "code",
   "execution_count": 42,
   "id": "bcab0ebf-1cba-46b7-89fb-411cf99bf791",
   "metadata": {},
   "outputs": [],
   "source": [
    "stc1 = stc[stc['original_name'].isin(items)]\n",
    "stc_working = stc[~stc['original_name'].isin(items)]"
   ]
  },
  {
   "cell_type": "markdown",
   "id": "b1a7be3e-ca64-4c65-9a3a-07ddc77702d4",
   "metadata": {},
   "source": []
  },
  {
   "cell_type": "code",
   "execution_count": 45,
   "id": "09ef40a8-01b9-47e0-ab67-63bffc3a06dc",
   "metadata": {},
   "outputs": [
    {
     "name": "stdout",
     "output_type": "stream",
     "text": [
      "Total records in STC JAWWY 3598607\n",
      "Total records in after getting full items info  974007\n",
      "Total records that we did not get their record  2624600\n"
     ]
    }
   ],
   "source": [
    "print(\"Total records in STC JAWWY {}\".format(stc.shape[0]))\n",
    "print(\"Total records in after getting full items info  {}\".format(stc1.shape[0]))\n",
    "print(\"Total records that we did not get their record  {}\".format(stc_working.shape[0]))"
   ]
  },
  {
   "cell_type": "markdown",
   "id": "2f29a045-4eb2-44ef-8758-96f0fb7ff98c",
   "metadata": {},
   "source": [
    "### Sadly, we will lose a lot of data by getting only the full information about movies and tvs. We still have almot 1Million record and that has high portion of content from diffeerent items"
   ]
  },
  {
   "cell_type": "markdown",
   "id": "789d6ccc-dc5b-417f-b20c-2cfae3a925bb",
   "metadata": {},
   "source": [
    "# content-based recommendation system"
   ]
  },
  {
   "cell_type": "code",
   "execution_count": null,
   "id": "1c83a997-4844-4967-b7ce-2df9c3c27711",
   "metadata": {},
   "outputs": [],
   "source": []
  },
  {
   "cell_type": "code",
   "execution_count": null,
   "id": "600c730a-dfd3-4b70-94a9-fd289000120e",
   "metadata": {},
   "outputs": [],
   "source": []
  },
  {
   "cell_type": "code",
   "execution_count": null,
   "id": "0e4ecf55-4a3a-48cf-8125-76a144d81dd2",
   "metadata": {},
   "outputs": [],
   "source": []
  },
  {
   "cell_type": "code",
   "execution_count": null,
   "id": "0ffc0cbf-bc7d-4cfb-a6ff-7b466b87e8f2",
   "metadata": {},
   "outputs": [],
   "source": []
  },
  {
   "cell_type": "code",
   "execution_count": null,
   "id": "422e97ea-c588-40b1-8850-6798b73799bf",
   "metadata": {},
   "outputs": [],
   "source": []
  },
  {
   "cell_type": "code",
   "execution_count": null,
   "id": "8c2ae10a-4167-445d-993f-aa4eb083c9aa",
   "metadata": {},
   "outputs": [],
   "source": []
  },
  {
   "cell_type": "code",
   "execution_count": null,
   "id": "1b041f01-80db-463d-bf39-5c95a72638c1",
   "metadata": {},
   "outputs": [],
   "source": []
  },
  {
   "cell_type": "code",
   "execution_count": null,
   "id": "3b19f1a5-0144-4e9c-9fa4-a5f2637e0d45",
   "metadata": {},
   "outputs": [],
   "source": []
  }
 ],
 "metadata": {
  "kernelspec": {
   "display_name": "Python 3 (ipykernel)",
   "language": "python",
   "name": "python3"
  },
  "language_info": {
   "codemirror_mode": {
    "name": "ipython",
    "version": 3
   },
   "file_extension": ".py",
   "mimetype": "text/x-python",
   "name": "python",
   "nbconvert_exporter": "python",
   "pygments_lexer": "ipython3",
   "version": "3.8.12"
  }
 },
 "nbformat": 4,
 "nbformat_minor": 5
}
